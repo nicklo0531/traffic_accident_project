{
 "cells": [
  {
   "cell_type": "code",
   "execution_count": 3,
   "metadata": {},
   "outputs": [
    {
     "name": "stdout",
     "output_type": "stream",
     "text": [
      "High chance of accident\n"
     ]
    }
   ],
   "source": [
    "# 1.  Accident Severity Predictor\n",
    "# Write a program that asks the user for the weather condition (\"rainy\", \"sunny\", or \"foggy\") and the speed of a car.\n",
    "speed = input()\n",
    "speed = int(speed)\n",
    "weather = input() # \"rainy\", \"sunny\", or \"foggy\"\n",
    "if (speed >= 70) & (weather == 'rainy' or weather == 'foggy'):\n",
    "    print(\"High chance of accident\")\n",
    "else:\n",
    "    print(\"Low chance of accident\")\n"
   ]
  },
  {
   "cell_type": "code",
   "execution_count": 3,
   "metadata": {},
   "outputs": [
    {
     "name": "stdout",
     "output_type": "stream",
     "text": [
      "2\n"
     ]
    }
   ],
   "source": [
    "# 2. Traffic Data Analyzer\n",
    "speeds = [30, 45, 65, 70, 85, 90]\n",
    "speeding_count = 0\n",
    "for speed in speeds:\n",
    "    if speed > 70:\n",
    "        speeding_count += 1\n",
    "print(speeding_count)"
   ]
  },
  {
   "cell_type": "code",
   "execution_count": 2,
   "metadata": {},
   "outputs": [
    {
     "name": "stdout",
     "output_type": "stream",
     "text": [
      "Unknown time of day.\n"
     ]
    }
   ],
   "source": [
    "# 3. Dangerous Time Predictor\n",
    "accident_prob_d = {\"morning\": 0.1, \"afternoon\": 0.2, \"night\": 0.5}\n",
    "time_of_day = input() # (\"morning\", \"afternoon\", or \"night\")\n",
    "if time_of_day in accident_prob_d:\n",
    "    print(accident_prob_d[time_of_day])\n",
    "else:\n",
    "    print(\"Unknown time of day.\")\n"
   ]
  }
 ],
 "metadata": {
  "kernelspec": {
   "display_name": ".venv",
   "language": "python",
   "name": "python3"
  },
  "language_info": {
   "codemirror_mode": {
    "name": "ipython",
    "version": 3
   },
   "file_extension": ".py",
   "mimetype": "text/x-python",
   "name": "python",
   "nbconvert_exporter": "python",
   "pygments_lexer": "ipython3",
   "version": "3.9.6"
  }
 },
 "nbformat": 4,
 "nbformat_minor": 2
}
